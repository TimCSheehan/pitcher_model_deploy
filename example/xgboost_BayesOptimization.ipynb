{
 "cells": [
  {
   "cell_type": "markdown",
   "metadata": {},
   "source": [
    "# Imports"
   ]
  },
  {
   "cell_type": "code",
   "execution_count": 1,
   "metadata": {},
   "outputs": [],
   "source": [
    "import sys\n",
    "sys.path.append('..')\n",
    "sys.path.append('../src/mlb_models')\n",
    "\n",
    "import numpy as np\n",
    "import scipy.stats\n",
    "import matplotlib.pyplot as plt\n",
    "import pandas as pd\n",
    "from utils import *\n",
    "\n",
    "from datetime import date, timedelta, datetime, timezone\n",
    "\n",
    "import xgboost as xgb\n",
    "from xgboost import plot_importance\n",
    "import sklearn\n",
    "from sklearn.linear_model import LinearRegression\n",
    "# from exports import EmailHandler \n",
    "\n",
    "def rmse(y,y_hat):return np.sqrt(np.mean((y-y_hat)**2))\n",
    "\n",
    "import dataframe_image as dfi\n",
    "\n",
    "import pytz\n",
    "local_tz = pytz.timezone('US/Eastern')\n",
    "def utc_to_local(utc_dt):\n",
    "    local_dt = utc_dt.replace(tzinfo=pytz.utc).astimezone(local_tz)\n",
    "    return local_tz.normalize(local_dt) # .normalize might be unnecessary\n",
    "\n",
    "def pretty_time(utc_dt):\n",
    "    local_dt = utc_dt.replace(tzinfo=pytz.utc).astimezone(local_tz)\n",
    "    return local_tz.normalize(local_dt).strftime('%m/%d %I.%M%p')\n",
    "\n",
    "best_models = {}"
   ]
  },
  {
   "cell_type": "markdown",
   "metadata": {},
   "source": [
    "# update schedule and get todays data"
   ]
  },
  {
   "cell_type": "code",
   "execution_count": 2,
   "metadata": {},
   "outputs": [
    {
     "name": "stdout",
     "output_type": "stream",
     "text": [
      "grabbing from 2024-07-28 to 2024-07-31\n",
      "[datetime.date(2024, 7, 28), datetime.date(2024, 7, 29), datetime.date(2024, 7, 30)]\n",
      "07-28, 07-29, 07-30, Saving...Saved to ../data/schedule_v1/2024_schedule.parquet!\n",
      "Schedule in memory\n",
      "Unrolling and extracting schedule stats.\n",
      "Extracting prev season batting and hitting stats.\n",
      "Gathering player lookup table. This may take a moment.\n"
     ]
    }
   ],
   "source": [
    "from download_game_level_data import ScheduleETL, DataLoaderGame\n",
    "S = ScheduleETL()\n",
    "S.update_schedule()"
   ]
  },
  {
   "cell_type": "code",
   "execution_count": 3,
   "metadata": {},
   "outputs": [],
   "source": [
    "dl = DataLoaderGame()\n",
    "data = dl.import_merged_data()\n",
    "future_games = dl.import_upcoming()"
   ]
  },
  {
   "cell_type": "markdown",
   "metadata": {},
   "source": [
    "# Get data slices\n",
    "training / validate / test"
   ]
  },
  {
   "cell_type": "code",
   "execution_count": 4,
   "metadata": {},
   "outputs": [
    {
     "name": "stdout",
     "output_type": "stream",
     "text": [
      "train: 17273 validate: 530 test: 442\n"
     ]
    },
    {
     "name": "stderr",
     "output_type": "stream",
     "text": [
      "/Users/tim/opt/miniconda3/lib/python3.9/site-packages/numpy/core/_methods.py:48: RuntimeWarning: overflow encountered in reduce\n",
      "  return umr_sum(a, axis, dtype, out, keepdims, initial, where)\n"
     ]
    }
   ],
   "source": [
    "data_use = data\n",
    "\n",
    "# get time ranges to subset training. use most recent two weeks to test, and preceeding two weeks for validation\n",
    "now = datetime.now()\n",
    "today = date.today()\n",
    "tomorrow = today + timedelta(days=1)\n",
    "if now.hour>19: # if after 7PM, lets just predict for tomorrow\n",
    "    predict_day_cutoff = tomorrow\n",
    "else:\n",
    "    predict_day_cutoff = today\n",
    "two_week_ago = today - timedelta(days=14)\n",
    "four_week_ago = today - timedelta(days=28)\n",
    "six_week_ago = today - timedelta(days=28+14)\n",
    "eight_week_ago = today - timedelta(days=28+28)\n",
    "\n",
    "t_start = f'{2021}-03-01'\n",
    "t_validate = four_week_ago.strftime('%Y-%m-%d')\n",
    "t_test = two_week_ago.strftime('%Y-%m-%d')\n",
    "# t_validate_param_search = (today - timedelta(days=28+14)).strftime('%Y-%m-%d')\n",
    "\n",
    "\n",
    "ind_train = (data_use.date_time<=t_validate)&(data_use.date_time>t_start)\n",
    "ind_validate = (data_use.date_time>t_validate)&(data_use.date_time<t_test)\n",
    "ind_test = (data_use.date_time>=t_test)&(data_use.date_time<date.today().strftime('%Y-%m-%d'))\n",
    "# ind_predict = (data_use.date_time>=predict_day_cutoff.strftime('%Y-%m-%d'))\n",
    "\n",
    "data_imputed = data_use.copy()\n",
    "data_imputed = data_imputed.fillna(data_imputed.loc[ind_train].mean(numeric_only=True))\n",
    "\n",
    "future_games_imputed = future_games.copy()\n",
    "future_games_imputed = future_games_imputed.fillna(data_imputed.mean(numeric_only=True))\n",
    "\n",
    "print(f'train: {np.sum(ind_train)} validate: {np.sum(ind_validate)} test: {np.sum(ind_test)}')"
   ]
  },
  {
   "cell_type": "markdown",
   "metadata": {},
   "source": [
    "# Define Models"
   ]
  },
  {
   "cell_type": "code",
   "execution_count": 5,
   "metadata": {},
   "outputs": [],
   "source": [
    "xg_early_stop = xgb.XGBRegressor(tree_method=\"hist\", early_stopping_rounds=4,enable_categorical=True,max_depth=4,reg_lambda=1.2,reg_alpha=0.9,\n",
    "                      subsample=0.5)\n",
    "xg_full = xgb.XGBRegressor(tree_method=\"hist\",enable_categorical=True,max_depth=3,reg_lambda=5.3,reg_alpha=10.9,\n",
    "                      subsample=0.8)\n",
    "\n",
    "n_digits = 2\n",
    "# best_models = {}\n",
    "\n",
    "def train_xg_early_stop():\n",
    "    xg_early_stop.fit(x_train, y_train , eval_set=[(x_validate, y_validate)]);\n",
    "    pred_future = np.round(xg_early_stop.predict(x_predict),n_digits)\n",
    "    e=np.nan\n",
    "    if not NO_VALIDATION:\n",
    "        pred = xg_early_stop.predict(x_test)\n",
    "        e_test=rmse(y_test,pred)\n",
    "    return {'name':'xg_early','pred_future':pred_future, 'e_test': e_test}\n",
    "\n",
    "def train_xg_mdl(mdl,do_flatten=False,name=\"model\"):\n",
    "    # get validation performance \n",
    "    mdl.fit(x_train, y_train)\n",
    "    if do_flatten:\n",
    "        f = lambda x: x.flatten()\n",
    "    else:\n",
    "        f = lambda x: x\n",
    "    x_val_stack = pd.concat((x_test,x_validate))\n",
    "    y_val_stack = pd.concat((y_test,y_validate))\n",
    "    pred_validate = f(mdl.predict(x_val_stack))\n",
    "    e_validate  = rmse(y_val_stack.values,pred_validate)\n",
    "    \n",
    "    # get future predictions and rmse for test\n",
    "    x_val_stack_train = pd.concat((x_train,x_validate))\n",
    "    y_val_stack_train = pd.concat((y_train,y_validate))\n",
    "    mdl.fit(x_val_stack_train, y_val_stack_train)\n",
    "    pred_future = np.round(f(mdl.predict(x_predict)),n_digits) # \n",
    "\n",
    "    pred = f(mdl.predict(x_test))\n",
    "    e_test=rmse(y_test.values,pred)\n",
    "    return {'name':name,'pred_future':pred_future,'pred_validate': pred_validate, 'e_test': e_test,'e_validate':e_validate}\n"
   ]
  },
  {
   "cell_type": "markdown",
   "metadata": {},
   "source": [
    "# Feature Selection"
   ]
  },
  {
   "cell_type": "code",
   "execution_count": 6,
   "metadata": {},
   "outputs": [
    {
     "name": "stdout",
     "output_type": "stream",
     "text": [
      "test 2.414\n"
     ]
    },
    {
     "data": {
      "text/plain": [
       "<Axes: title={'center': 'Feature importance'}, xlabel='F score', ylabel='Features'>"
      ]
     },
     "execution_count": 6,
     "metadata": {},
     "output_type": "execute_result"
    },
    {
     "data": {
      "image/png": "[encoded data removed]",
      "text/plain": [
       "<Figure size 640x480 with 1 Axes>"
      ]
     },
     "metadata": {},
     "output_type": "display_data"
    }
   ],
   "source": [
    "# all\n",
    "col_x = ['pitcher', 'home_away','pitching_inningsPitched', 'pitching_k_inning', 'pitching_bb_inning',\n",
    "       'pred_k_hitting', 'pred_bb_hitting', 'prev_pitching_IP',\n",
    "       'prev_pitching_k_game', 'prev_pitching_bb_game',\n",
    "       'prev_pitching_ip_game', 'prev_hitting_Kp', 'prev_hitting_BBp',\n",
    "        'umpire']\n",
    "\n",
    "# dependable (since umpire data arrives late)\n",
    "col_x = [ 'home_away','pitching_inningsPitched', 'pitching_k_inning', 'pitching_bb_inning',\n",
    "       'pred_k_hitting', 'pred_bb_hitting', 'prev_pitching_IP',\n",
    "       'prev_pitching_k_game', 'prev_pitching_bb_game',\n",
    "       'prev_pitching_ip_game', 'prev_hitting_Kp', 'prev_hitting_BBp',] # 'pitcher',\n",
    "\n",
    "\n",
    "col_y = ['k']\n",
    "\n",
    "data_use = data # data_imputed\n",
    "\n",
    "x_train, y_train = data_use.loc[ind_train,col_x], data_use.loc[ind_train,col_y]\n",
    "x_validate, y_validate = data_use.loc[ind_validate,col_x], data_use.loc[ind_validate,col_y]\n",
    "x_test, y_test = data_use.loc[ind_test,col_x], data_use.loc[ind_test,col_y]\n",
    "x_predict = future_games.loc[:,col_x]\n",
    "\n",
    "mdl = xgb.XGBRegressor(tree_method=\"hist\", enable_categorical=True,max_depth=4,reg_lambda=1.2,reg_alpha=0.9,)\n",
    "\n",
    "mdl.fit(x_train, y_train);\n",
    "\n",
    "predictions = mdl.predict(x_test)\n",
    "y_hat_test_xgb = rmse(y_test[col_y[0]],predictions)\n",
    "\n",
    "print(f'test {y_hat_test_xgb:.3f}')\n",
    "\n",
    "prediction_future = mdl.predict(x_predict)\n",
    "\n",
    "\n",
    "prediction_future\n",
    "\n",
    "plot_importance(mdl)\n"
   ]
  },
  {
   "cell_type": "markdown",
   "metadata": {},
   "source": [
    "# Grid Search\n",
    "- exhaustive search of meta-parameters"
   ]
  },
  {
   "cell_type": "code",
   "execution_count": 7,
   "metadata": {},
   "outputs": [
    {
     "name": "stdout",
     "output_type": "stream",
     "text": [
      "Best set of hyperparameters:  {'learning_rate': 0.1, 'max_depth': 3, 'subsample': 1}\n",
      "Best score:  -4.394921094262122\n",
      "Best set of hyperparameters:  {'learning_rate': 0.1, 'max_depth': 3, 'subsample': 1}\n",
      "Best score:  -1.269289306662951\n"
     ]
    }
   ],
   "source": [
    "from sklearn.model_selection import GridSearchCV\n",
    "\n",
    "use_imputed = True\n",
    "if use_imputed:\n",
    "    data_use_model = data_imputed\n",
    "    data_use_pred  = future_games_imputed\n",
    "else:\n",
    "    data_use_model = data_use\n",
    "    data_use_pred = future_games\n",
    "    \n",
    "param_grid = {\n",
    "    'max_depth': [3, 5, 7],\n",
    "    'learning_rate': [0.1, 0.01, 0.001],\n",
    "    'subsample': [0.5, 0.7, 1]\n",
    "}\n",
    "\n",
    "# apply to training data only...\n",
    "# col_x = [ 'prev_pitching_k_game','prev_pitching_bb_game', 'prev_pitching_ip_game', \n",
    "#          'prev_hitting_BBp','prev_hitting_Kp',\n",
    "#          'pred_k_hitting', 'pred_bb_hitting',\n",
    "#          'pitching_k_inning', 'pitching_bb_inning',\n",
    "#         ]\n",
    "for col_y in ['k','bb']:\n",
    "    x_train, y_train = data_use_model.loc[ind_train,col_x], data_use_model.loc[ind_train,col_y]\n",
    "\n",
    "    xgb_model = xgb.XGBRegressor(tree_method=\"hist\",enable_categorical=True,reg_lambda=5.3,reg_alpha=10.9)\n",
    "\n",
    "    # Create the GridSearchCV object\n",
    "    grid_search = GridSearchCV(xgb_model, param_grid, cv=5, scoring='neg_mean_squared_error')\n",
    "\n",
    "    # Fit the GridSearchCV object to the training data\n",
    "    grid_search.fit(x_train, y_train)\n",
    "    best_models[f'grid_{col_y}'] = grid_search.best_estimator_\n",
    "    print(\"Best set of hyperparameters: \", grid_search.best_params_)\n",
    "    print(\"Best score: \", grid_search.best_score_)\n",
    "    "
   ]
  },
  {
   "cell_type": "markdown",
   "metadata": {},
   "source": [
    "# Random Search"
   ]
  },
  {
   "cell_type": "code",
   "execution_count": 8,
   "metadata": {},
   "outputs": [
    {
     "name": "stdout",
     "output_type": "stream",
     "text": [
      "Best set of hyperparameters:  {'learning_rate': 0.13081987203197154, 'max_depth': 4, 'n_estimators': 88, 'reg_alpha': 0.80660045030544, 'reg_lambda': 1.4724666330363236, 'subsample': 0.966996296455212}\n",
      "Best score:  -4.398470685341254\n",
      "Best set of hyperparameters:  {'learning_rate': 0.019983616981717037, 'max_depth': 4, 'n_estimators': 196, 'reg_alpha': 1.749647391607564, 'reg_lambda': 0.4786724633365821, 'subsample': 0.6049734648218462}\n",
      "Best score:  -1.2672577008129111\n"
     ]
    }
   ],
   "source": [
    "from sklearn.model_selection import RandomizedSearchCV\n",
    "import scipy.stats as stats\n",
    "\n",
    "param_dist = {\n",
    "    'max_depth': stats.randint(2, 10),\n",
    "    'learning_rate': stats.uniform(0.01, 0.2),\n",
    "    'subsample': stats.uniform(0.5, 0.5),\n",
    "    'n_estimators':stats.randint(50, 200),\n",
    "    'reg_lambda':stats.uniform(0.1, 3),\n",
    "    'reg_alpha': stats.uniform(0.1, 3),\n",
    "}\n",
    "\n",
    "for col_y in ['k','bb']:\n",
    "    x_train, y_train = data_use_model.loc[ind_train,col_x], data_use_model.loc[ind_train,col_y]\n",
    "    xgb_model = xgb.XGBRegressor(tree_method=\"hist\",enable_categorical=True)\n",
    "    random_search = RandomizedSearchCV(xgb_model, param_distributions=param_dist, n_iter=30, cv=5, scoring='neg_mean_squared_error')\n",
    "    \n",
    "    random_search.fit(x_train, y_train) # this is the actual work-horse\n",
    "    best_models[f'rand_{col_y}'] = random_search.best_estimator_\n",
    "\n",
    "    print(\"Best set of hyperparameters: \", random_search.best_params_)\n",
    "    print(\"Best score: \", random_search.best_score_)\n",
    "    "
   ]
  },
  {
   "cell_type": "markdown",
   "metadata": {},
   "source": [
    "# Bayesian Optimization"
   ]
  },
  {
   "cell_type": "code",
   "execution_count": 9,
   "metadata": {},
   "outputs": [
    {
     "name": "stdout",
     "output_type": "stream",
     "text": [
      "100%|████████| 60/60 [00:22<00:00,  2.63trial/s, best loss: 2.2980423402138044]\n",
      "100%|████████| 60/60 [00:24<00:00,  2.45trial/s, best loss: 1.1835933976180832]\n"
     ]
    }
   ],
   "source": [
    "# from hyperopt import fmin, tpe, hp\n",
    "from hyperopt import fmin, tpe, hp, STATUS_OK, Trials\n",
    "\n",
    "space = {\n",
    "    'max_depth': hp.quniform('max_depth', 2, 8, 1),\n",
    "    'learning_rate': hp.loguniform('learning_rate', -5, -2),\n",
    "    'subsample': hp.uniform('subsample', 0.5, 1),\n",
    "    'n_estimators' : hp.quniform('n_estimators',50,200,1),\n",
    "    'reg_lambda':hp.uniform('reg_lambda',0.1, 3),\n",
    "    'reg_alpha': hp.uniform('reg_alpha', 0.1, 3),\n",
    "    \n",
    "}\n",
    "# col_y = 'k'\n",
    "x_train, y_train = data_use_model.loc[ind_train,col_x], data_use_model.loc[ind_train,col_y]\n",
    "xgb_model = xgb.XGBRegressor(tree_method=\"hist\",enable_categorical=True)\n",
    "\n",
    "def define_model(space):\n",
    "\n",
    "    model = xgb.XGBRegressor(tree_method=\"hist\",enable_categorical=True,max_depth = int(space['max_depth']), learning_rate = space['learning_rate'],subsample=space['subsample'],\n",
    "                              n_estimators =int(space['n_estimators']),reg_lambda=space['reg_lambda'], reg_alpha = space['reg_alpha'])\n",
    "    return model\n",
    "def hyperparameter_tuning(space):\n",
    "    \n",
    "    model = define_model(space)\n",
    "    \n",
    "    x_train, y_train = data_use_model.loc[ind_train,col_x], data_use_model.loc[ind_train,col_y]\n",
    "    x_test, y_test = data_use.loc[ind_test,col_x], data_use.loc[ind_test,col_y]\n",
    "    \n",
    "    model.fit(x_train,y_train)\n",
    "    pred = model.predict(x_test)\n",
    "    \n",
    "    loss_rmse = rmse(y_test.values,pred)\n",
    "    return {'loss':loss_rmse,'status': STATUS_OK, 'model': model}\n",
    "\n",
    "\n",
    "for col_y in ['k','bb']:\n",
    "    trials = Trials()\n",
    "    best = fmin(fn=hyperparameter_tuning,\n",
    "            space=space,\n",
    "            algo=tpe.suggest,\n",
    "            max_evals=60,\n",
    "            trials=trials)\n",
    "    best_models[f'bayes_{col_y}'] =  define_model(best)\n"
   ]
  },
  {
   "cell_type": "markdown",
   "metadata": {},
   "source": [
    "# Summarize and build mixture of models"
   ]
  },
  {
   "cell_type": "code",
   "execution_count": 11,
   "metadata": {},
   "outputs": [
    {
     "name": "stdout",
     "output_type": "stream",
     "text": [
      "[0]\tvalidation_0-rmse:2.42854\n",
      "[1]\tvalidation_0-rmse:2.32511\n",
      "[2]\tvalidation_0-rmse:2.26750\n",
      "[3]\tvalidation_0-rmse:2.23013\n",
      "[4]\tvalidation_0-rmse:2.21071\n",
      "[5]\tvalidation_0-rmse:2.19267\n",
      "[6]\tvalidation_0-rmse:2.17159\n",
      "[7]\tvalidation_0-rmse:2.16294\n",
      "[8]\tvalidation_0-rmse:2.15300\n",
      "[9]\tvalidation_0-rmse:2.14791\n",
      "[10]\tvalidation_0-rmse:2.14024\n",
      "[11]\tvalidation_0-rmse:2.12592\n",
      "[12]\tvalidation_0-rmse:2.11851\n",
      "[13]\tvalidation_0-rmse:2.11344\n",
      "[14]\tvalidation_0-rmse:2.10884\n",
      "[15]\tvalidation_0-rmse:2.10618\n",
      "[16]\tvalidation_0-rmse:2.10699\n",
      "[17]\tvalidation_0-rmse:2.10420\n",
      "[18]\tvalidation_0-rmse:2.10183\n",
      "[19]\tvalidation_0-rmse:2.10122\n",
      "[20]\tvalidation_0-rmse:2.10577\n",
      "[21]\tvalidation_0-rmse:2.10607\n",
      "[22]\tvalidation_0-rmse:2.10773\n",
      "[23]\tvalidation_0-rmse:2.11234\n",
      "[0]\tvalidation_0-rmse:1.25363\n",
      "[1]\tvalidation_0-rmse:1.22390\n",
      "[2]\tvalidation_0-rmse:1.19896\n",
      "[3]\tvalidation_0-rmse:1.18507\n",
      "[4]\tvalidation_0-rmse:1.17449\n",
      "[5]\tvalidation_0-rmse:1.17191\n",
      "[6]\tvalidation_0-rmse:1.17170\n",
      "[7]\tvalidation_0-rmse:1.17183\n",
      "[8]\tvalidation_0-rmse:1.16660\n",
      "[9]\tvalidation_0-rmse:1.16317\n",
      "[10]\tvalidation_0-rmse:1.16168\n",
      "[11]\tvalidation_0-rmse:1.16286\n",
      "[12]\tvalidation_0-rmse:1.16355\n",
      "[13]\tvalidation_0-rmse:1.17050\n"
     ]
    }
   ],
   "source": [
    "use_imputed = True\n",
    "if use_imputed:\n",
    "    data_use_model = data_imputed\n",
    "    data_use_pred  = future_games_imputed\n",
    "else:\n",
    "    data_use_model = data_use\n",
    "    data_use_pred = future_games\n",
    "\n",
    "\n",
    "predict_table = data_use_pred.iloc[:,:8].copy()\n",
    "\n",
    "NO_VALIDATION = False\n",
    "tmp = []\n",
    "for col_y in ['k','bb']:\n",
    "\n",
    "    x_train, y_train = data_use_model.loc[ind_train,col_x], data_use_model.loc[ind_train,col_y]\n",
    "    x_validate, y_validate = data_use_model.loc[ind_validate,col_x], data_use_model.loc[ind_validate,col_y]\n",
    "    x_test, y_test = data_use_model.loc[ind_test,col_x], data_use_model.loc[ind_test,col_y]\n",
    "#     x_predict = data_use_model.loc[ind_predict,col_x]\n",
    "    x_predict = data_use_pred.loc[:,col_x]\n",
    "    \n",
    "    if NO_VALIDATION:\n",
    "        x_train, y_train = pd.concat([x_train,x_validate]), pd.concat([y_train,y_validate])\n",
    "        x_validate, y_validate = x_test, y_test\n",
    "        \n",
    "    # currently 3 models\n",
    "    rmse_xg_early = np.nan\n",
    "    out_xg_early = train_xg_early_stop()\n",
    "    \n",
    "    out_xg = train_xg_mdl(xg_full,name='XG')\n",
    "#     out_reg = train_xg_mdl(LinearRegression(),True,name='Reg')\n",
    "    out_grid = train_xg_mdl(best_models[f'grid_{col_y}'],name='XG_grid')\n",
    "    out_rand = train_xg_mdl(best_models[f'rand_{col_y}'],name='XG_rand')\n",
    "#     bayes_mdl = xgb.XGBRegressor(tree_method=\"hist\",enable_categorical=True,**best_models[f'bay_{col_y}'])\n",
    "    out_bayes = train_xg_mdl(best_models[f'bayes_{col_y}'],name='XG_bayes')\n",
    "\n",
    "   \n",
    "    _mdl_outs = pd.DataFrame([out_xg,out_grid,out_rand,out_xg_early, out_bayes,out_rand])\n",
    "    \n",
    "    \n",
    "    # get ensamble \n",
    "    _mdl_use = _mdl_outs.query('~pred_validate.isnull()')\n",
    "    pred_ensamble_future = np.mean(np.stack(_mdl_use.pred_validate),0)\n",
    "    pred_ensamble_validate = np.mean(np.stack(_mdl_use.pred_validate),0)\n",
    "    e_validate  = rmse(np.r_[y_test,y_validate],pred_ensamble_validate)\n",
    "    ensamle_mdl = {'name':'ensamble','pred_future':pred_ensamble_future,'pred_validate':pred_ensamble_validate,'e_validate':e_validate}\n",
    "    _mdl_outs.iloc[-1] = ensamle_mdl\n",
    "    _mdl_outs['feature'] = col_y\n",
    "    tmp.append(_mdl_outs)\n",
    "\n",
    "    \n",
    "performance = pd.concat(tmp)\n",
    "perf = performance[['name','e_test','e_validate','feature']]"
   ]
  },
  {
   "cell_type": "code",
   "execution_count": 12,
   "metadata": {},
   "outputs": [
    {
     "data": {
      "text/html": [
       "<div>\n",
       "<style scoped>\n",
       "    .dataframe tbody tr th:only-of-type {\n",
       "        vertical-align: middle;\n",
       "    }\n",
       "\n",
       "    .dataframe tbody tr th {\n",
       "        vertical-align: top;\n",
       "    }\n",
       "\n",
       "    .dataframe thead th {\n",
       "        text-align: right;\n",
       "    }\n",
       "</style>\n",
       "<table border=\"1\" class=\"dataframe\">\n",
       "  <thead>\n",
       "    <tr style=\"text-align: right;\">\n",
       "      <th></th>\n",
       "      <th>name</th>\n",
       "      <th>pred_future</th>\n",
       "      <th>pred_validate</th>\n",
       "      <th>e_test</th>\n",
       "      <th>e_validate</th>\n",
       "      <th>feature</th>\n",
       "    </tr>\n",
       "  </thead>\n",
       "  <tbody>\n",
       "    <tr>\n",
       "      <th>0</th>\n",
       "      <td>XG</td>\n",
       "      <td>[4.78, 5.55, 6.4, 5.54, 3.58, 5.77, 5.77, 7.39...</td>\n",
       "      <td>[4.04186, 5.0432653, 4.6477757, 6.0071154, 4.2...</td>\n",
       "      <td>2.344318</td>\n",
       "      <td>2.207289</td>\n",
       "      <td>k</td>\n",
       "    </tr>\n",
       "    <tr>\n",
       "      <th>1</th>\n",
       "      <td>XG_grid</td>\n",
       "      <td>[5.51, 5.35, 5.97, 5.21, 3.37, 6.26, 5.59, 6.7...</td>\n",
       "      <td>[4.001868, 5.332125, 4.5499907, 5.693697, 4.04...</td>\n",
       "      <td>2.320859</td>\n",
       "      <td>2.210839</td>\n",
       "      <td>k</td>\n",
       "    </tr>\n",
       "    <tr>\n",
       "      <th>2</th>\n",
       "      <td>XG_rand</td>\n",
       "      <td>[5.24, 5.41, 6.11, 5.23, 3.24, 6.18, 6.06, 6.9...</td>\n",
       "      <td>[3.9794626, 5.136052, 4.6085577, 5.8098826, 4....</td>\n",
       "      <td>2.338496</td>\n",
       "      <td>2.207654</td>\n",
       "      <td>k</td>\n",
       "    </tr>\n",
       "    <tr>\n",
       "      <th>3</th>\n",
       "      <td>xg_early</td>\n",
       "      <td>[5.14, 5.46, 5.92, 5.2, 3.65, 6.37, 5.95, 7.28...</td>\n",
       "      <td>NaN</td>\n",
       "      <td>2.391847</td>\n",
       "      <td>NaN</td>\n",
       "      <td>k</td>\n",
       "    </tr>\n",
       "    <tr>\n",
       "      <th>4</th>\n",
       "      <td>XG_bayes</td>\n",
       "      <td>[5.43, 5.19, 5.5, 5.22, 3.89, 6.37, 5.25, 6.64...</td>\n",
       "      <td>[3.9152124, 5.3619146, 4.3828387, 5.3959, 3.88...</td>\n",
       "      <td>2.305824</td>\n",
       "      <td>2.242886</td>\n",
       "      <td>k</td>\n",
       "    </tr>\n",
       "    <tr>\n",
       "      <th>5</th>\n",
       "      <td>ensamble</td>\n",
       "      <td>[3.9835732, 5.2018824, 4.5595446, 5.743295, 4....</td>\n",
       "      <td>[3.9835732, 5.2018824, 4.5595446, 5.743295, 4....</td>\n",
       "      <td>NaN</td>\n",
       "      <td>2.204224</td>\n",
       "      <td>k</td>\n",
       "    </tr>\n",
       "    <tr>\n",
       "      <th>0</th>\n",
       "      <td>XG</td>\n",
       "      <td>[1.46, 2.01, 1.43, 1.91, 0.9, 2.75, 1.8, 1.37,...</td>\n",
       "      <td>[1.5043371, 1.1380588, 1.4272827, 1.1841699, 1...</td>\n",
       "      <td>1.190821</td>\n",
       "      <td>1.177354</td>\n",
       "      <td>bb</td>\n",
       "    </tr>\n",
       "    <tr>\n",
       "      <th>1</th>\n",
       "      <td>XG_grid</td>\n",
       "      <td>[1.48, 2.06, 1.43, 1.78, 0.92, 2.74, 1.86, 1.4...</td>\n",
       "      <td>[1.4364907, 1.3129443, 1.6631968, 1.3543822, 1...</td>\n",
       "      <td>1.176776</td>\n",
       "      <td>1.178851</td>\n",
       "      <td>bb</td>\n",
       "    </tr>\n",
       "    <tr>\n",
       "      <th>2</th>\n",
       "      <td>XG_rand</td>\n",
       "      <td>[1.48, 2.11, 1.39, 1.83, 1.14, 2.6, 1.95, 1.53...</td>\n",
       "      <td>[1.4225917, 1.2984408, 1.6475561, 1.3563412, 1...</td>\n",
       "      <td>1.181002</td>\n",
       "      <td>1.174872</td>\n",
       "      <td>bb</td>\n",
       "    </tr>\n",
       "    <tr>\n",
       "      <th>3</th>\n",
       "      <td>xg_early</td>\n",
       "      <td>[1.48, 2.15, 1.38, 1.91, 1.26, 2.7, 1.96, 1.54...</td>\n",
       "      <td>NaN</td>\n",
       "      <td>1.176059</td>\n",
       "      <td>NaN</td>\n",
       "      <td>bb</td>\n",
       "    </tr>\n",
       "    <tr>\n",
       "      <th>4</th>\n",
       "      <td>XG_bayes</td>\n",
       "      <td>[1.45, 2.11, 1.38, 1.85, 1.07, 2.92, 1.93, 1.4...</td>\n",
       "      <td>[1.4106338, 1.3195702, 1.6339856, 1.370571, 1....</td>\n",
       "      <td>1.178182</td>\n",
       "      <td>1.172067</td>\n",
       "      <td>bb</td>\n",
       "    </tr>\n",
       "    <tr>\n",
       "      <th>5</th>\n",
       "      <td>ensamble</td>\n",
       "      <td>[1.439329, 1.273491, 1.6039155, 1.3243611, 1.7...</td>\n",
       "      <td>[1.439329, 1.273491, 1.6039155, 1.3243611, 1.7...</td>\n",
       "      <td>NaN</td>\n",
       "      <td>1.173733</td>\n",
       "      <td>bb</td>\n",
       "    </tr>\n",
       "  </tbody>\n",
       "</table>\n",
       "</div>"
      ],
      "text/plain": [
       "       name                                        pred_future  \\\n",
       "0        XG  [4.78, 5.55, 6.4, 5.54, 3.58, 5.77, 5.77, 7.39...   \n",
       "1   XG_grid  [5.51, 5.35, 5.97, 5.21, 3.37, 6.26, 5.59, 6.7...   \n",
       "2   XG_rand  [5.24, 5.41, 6.11, 5.23, 3.24, 6.18, 6.06, 6.9...   \n",
       "3  xg_early  [5.14, 5.46, 5.92, 5.2, 3.65, 6.37, 5.95, 7.28...   \n",
       "4  XG_bayes  [5.43, 5.19, 5.5, 5.22, 3.89, 6.37, 5.25, 6.64...   \n",
       "5  ensamble  [3.9835732, 5.2018824, 4.5595446, 5.743295, 4....   \n",
       "0        XG  [1.46, 2.01, 1.43, 1.91, 0.9, 2.75, 1.8, 1.37,...   \n",
       "1   XG_grid  [1.48, 2.06, 1.43, 1.78, 0.92, 2.74, 1.86, 1.4...   \n",
       "2   XG_rand  [1.48, 2.11, 1.39, 1.83, 1.14, 2.6, 1.95, 1.53...   \n",
       "3  xg_early  [1.48, 2.15, 1.38, 1.91, 1.26, 2.7, 1.96, 1.54...   \n",
       "4  XG_bayes  [1.45, 2.11, 1.38, 1.85, 1.07, 2.92, 1.93, 1.4...   \n",
       "5  ensamble  [1.439329, 1.273491, 1.6039155, 1.3243611, 1.7...   \n",
       "\n",
       "                                       pred_validate    e_test  e_validate  \\\n",
       "0  [4.04186, 5.0432653, 4.6477757, 6.0071154, 4.2...  2.344318    2.207289   \n",
       "1  [4.001868, 5.332125, 4.5499907, 5.693697, 4.04...  2.320859    2.210839   \n",
       "2  [3.9794626, 5.136052, 4.6085577, 5.8098826, 4....  2.338496    2.207654   \n",
       "3                                                NaN  2.391847         NaN   \n",
       "4  [3.9152124, 5.3619146, 4.3828387, 5.3959, 3.88...  2.305824    2.242886   \n",
       "5  [3.9835732, 5.2018824, 4.5595446, 5.743295, 4....       NaN    2.204224   \n",
       "0  [1.5043371, 1.1380588, 1.4272827, 1.1841699, 1...  1.190821    1.177354   \n",
       "1  [1.4364907, 1.3129443, 1.6631968, 1.3543822, 1...  1.176776    1.178851   \n",
       "2  [1.4225917, 1.2984408, 1.6475561, 1.3563412, 1...  1.181002    1.174872   \n",
       "3                                                NaN  1.176059         NaN   \n",
       "4  [1.4106338, 1.3195702, 1.6339856, 1.370571, 1....  1.178182    1.172067   \n",
       "5  [1.439329, 1.273491, 1.6039155, 1.3243611, 1.7...       NaN    1.173733   \n",
       "\n",
       "  feature  \n",
       "0       k  \n",
       "1       k  \n",
       "2       k  \n",
       "3       k  \n",
       "4       k  \n",
       "5       k  \n",
       "0      bb  \n",
       "1      bb  \n",
       "2      bb  \n",
       "3      bb  \n",
       "4      bb  \n",
       "5      bb  "
      ]
     },
     "execution_count": 12,
     "metadata": {},
     "output_type": "execute_result"
    }
   ],
   "source": [
    "performance"
   ]
  }
 ],
 "metadata": {
  "kernelspec": {
   "display_name": "umpires",
   "language": "python",
   "name": "umpires"
  },
  "language_info": {
   "codemirror_mode": {
    "name": "ipython",
    "version": 3
   },
   "file_extension": ".py",
   "mimetype": "text/x-python",
   "name": "python",
   "nbconvert_exporter": "python",
   "pygments_lexer": "ipython3",
   "version": "3.9.1"
  }
 },
 "nbformat": 4,
 "nbformat_minor": 4
}
